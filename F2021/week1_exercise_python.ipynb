{
 "cells": [
  {
   "cell_type": "markdown",
   "id": "91bb9f2c",
   "metadata": {},
   "source": [
    "## EAS2655 week 1 exercise"
   ]
  },
  {
   "cell_type": "code",
   "execution_count": 1,
   "id": "4a18956f",
   "metadata": {},
   "outputs": [],
   "source": [
    "# import libraries\n",
    "import pandas as pd\n",
    "import numpy as np\n",
    "import matplotlib.pyplot as plt"
   ]
  },
  {
   "cell_type": "markdown",
   "id": "7ac7d6a8",
   "metadata": {},
   "source": [
    "### download the data (excel sheet)"
   ]
  },
  {
   "cell_type": "code",
   "execution_count": 14,
   "id": "0b31a5cb",
   "metadata": {},
   "outputs": [
    {
     "data": {
      "text/html": [
       "<div>\n",
       "<style scoped>\n",
       "    .dataframe tbody tr th:only-of-type {\n",
       "        vertical-align: middle;\n",
       "    }\n",
       "\n",
       "    .dataframe tbody tr th {\n",
       "        vertical-align: top;\n",
       "    }\n",
       "\n",
       "    .dataframe thead th {\n",
       "        text-align: right;\n",
       "    }\n",
       "</style>\n",
       "<table border=\"1\" class=\"dataframe\">\n",
       "  <thead>\n",
       "    <tr style=\"text-align: right;\">\n",
       "      <th></th>\n",
       "      <th>Year</th>\n",
       "      <th>JAN</th>\n",
       "      <th>FEB</th>\n",
       "      <th>MAR</th>\n",
       "      <th>APR</th>\n",
       "      <th>MAY</th>\n",
       "      <th>JUN</th>\n",
       "      <th>JUL</th>\n",
       "      <th>AUG</th>\n",
       "      <th>SEP</th>\n",
       "      <th>OCT</th>\n",
       "      <th>NOV</th>\n",
       "      <th>DEC</th>\n",
       "    </tr>\n",
       "  </thead>\n",
       "  <tbody>\n",
       "    <tr>\n",
       "      <th>0</th>\n",
       "      <td>1879</td>\n",
       "      <td>44.3</td>\n",
       "      <td>43.7</td>\n",
       "      <td>57.6</td>\n",
       "      <td>58.9</td>\n",
       "      <td>69.8</td>\n",
       "      <td>74.9</td>\n",
       "      <td>79.6</td>\n",
       "      <td>73.9</td>\n",
       "      <td>68.7</td>\n",
       "      <td>64.3</td>\n",
       "      <td>53.9</td>\n",
       "      <td>51.5</td>\n",
       "    </tr>\n",
       "    <tr>\n",
       "      <th>1</th>\n",
       "      <td>1880</td>\n",
       "      <td>54.3</td>\n",
       "      <td>51.4</td>\n",
       "      <td>55.5</td>\n",
       "      <td>63.4</td>\n",
       "      <td>71.0</td>\n",
       "      <td>76.5</td>\n",
       "      <td>79.2</td>\n",
       "      <td>76.8</td>\n",
       "      <td>69.4</td>\n",
       "      <td>60.8</td>\n",
       "      <td>47.2</td>\n",
       "      <td>42.1</td>\n",
       "    </tr>\n",
       "    <tr>\n",
       "      <th>2</th>\n",
       "      <td>1881</td>\n",
       "      <td>40.1</td>\n",
       "      <td>46.6</td>\n",
       "      <td>49.1</td>\n",
       "      <td>59.1</td>\n",
       "      <td>70.8</td>\n",
       "      <td>77.8</td>\n",
       "      <td>81.1</td>\n",
       "      <td>78.8</td>\n",
       "      <td>75.5</td>\n",
       "      <td>67.2</td>\n",
       "      <td>52.6</td>\n",
       "      <td>49.6</td>\n",
       "    </tr>\n",
       "    <tr>\n",
       "      <th>3</th>\n",
       "      <td>1882</td>\n",
       "      <td>48.8</td>\n",
       "      <td>52.4</td>\n",
       "      <td>57.4</td>\n",
       "      <td>64.8</td>\n",
       "      <td>66.1</td>\n",
       "      <td>76.6</td>\n",
       "      <td>75.9</td>\n",
       "      <td>75.8</td>\n",
       "      <td>71.7</td>\n",
       "      <td>65.8</td>\n",
       "      <td>51.1</td>\n",
       "      <td>41.4</td>\n",
       "    </tr>\n",
       "    <tr>\n",
       "      <th>4</th>\n",
       "      <td>1883</td>\n",
       "      <td>43.0</td>\n",
       "      <td>50.2</td>\n",
       "      <td>50.2</td>\n",
       "      <td>61.6</td>\n",
       "      <td>67.4</td>\n",
       "      <td>76.4</td>\n",
       "      <td>80.1</td>\n",
       "      <td>76.2</td>\n",
       "      <td>71.3</td>\n",
       "      <td>66.0</td>\n",
       "      <td>53.7</td>\n",
       "      <td>48.0</td>\n",
       "    </tr>\n",
       "    <tr>\n",
       "      <th>...</th>\n",
       "      <td>...</td>\n",
       "      <td>...</td>\n",
       "      <td>...</td>\n",
       "      <td>...</td>\n",
       "      <td>...</td>\n",
       "      <td>...</td>\n",
       "      <td>...</td>\n",
       "      <td>...</td>\n",
       "      <td>...</td>\n",
       "      <td>...</td>\n",
       "      <td>...</td>\n",
       "      <td>...</td>\n",
       "      <td>...</td>\n",
       "    </tr>\n",
       "    <tr>\n",
       "      <th>137</th>\n",
       "      <td>2016</td>\n",
       "      <td>42.4</td>\n",
       "      <td>48.5</td>\n",
       "      <td>60.5</td>\n",
       "      <td>64.1</td>\n",
       "      <td>71.1</td>\n",
       "      <td>81.0</td>\n",
       "      <td>83.4</td>\n",
       "      <td>82.7</td>\n",
       "      <td>78.8</td>\n",
       "      <td>69.6</td>\n",
       "      <td>58.9</td>\n",
       "      <td>48.9</td>\n",
       "    </tr>\n",
       "    <tr>\n",
       "      <th>138</th>\n",
       "      <td>2017</td>\n",
       "      <td>52.0</td>\n",
       "      <td>56.1</td>\n",
       "      <td>57.7</td>\n",
       "      <td>67.8</td>\n",
       "      <td>71.1</td>\n",
       "      <td>76.6</td>\n",
       "      <td>81.2</td>\n",
       "      <td>79.2</td>\n",
       "      <td>73.8</td>\n",
       "      <td>65.7</td>\n",
       "      <td>56.2</td>\n",
       "      <td>46.8</td>\n",
       "    </tr>\n",
       "    <tr>\n",
       "      <th>139</th>\n",
       "      <td>2018</td>\n",
       "      <td>40.4</td>\n",
       "      <td>57.3</td>\n",
       "      <td>53.5</td>\n",
       "      <td>59.8</td>\n",
       "      <td>74.8</td>\n",
       "      <td>79.8</td>\n",
       "      <td>80.8</td>\n",
       "      <td>79.7</td>\n",
       "      <td>81.0</td>\n",
       "      <td>67.4</td>\n",
       "      <td>50.3</td>\n",
       "      <td>48.6</td>\n",
       "    </tr>\n",
       "    <tr>\n",
       "      <th>140</th>\n",
       "      <td>2019</td>\n",
       "      <td>45.9</td>\n",
       "      <td>53.8</td>\n",
       "      <td>55.4</td>\n",
       "      <td>65.3</td>\n",
       "      <td>76.4</td>\n",
       "      <td>77.7</td>\n",
       "      <td>82.2</td>\n",
       "      <td>82.5</td>\n",
       "      <td>82.4</td>\n",
       "      <td>68.4</td>\n",
       "      <td>52.5</td>\n",
       "      <td>51.2</td>\n",
       "    </tr>\n",
       "    <tr>\n",
       "      <th>141</th>\n",
       "      <td>2020</td>\n",
       "      <td>49.2</td>\n",
       "      <td>49.9</td>\n",
       "      <td>61.6</td>\n",
       "      <td>61.6</td>\n",
       "      <td>68.9</td>\n",
       "      <td>76.8</td>\n",
       "      <td>82.1</td>\n",
       "      <td>80.9</td>\n",
       "      <td>73.8</td>\n",
       "      <td>67.3</td>\n",
       "      <td>58.9</td>\n",
       "      <td>46.1</td>\n",
       "    </tr>\n",
       "  </tbody>\n",
       "</table>\n",
       "<p>142 rows × 13 columns</p>\n",
       "</div>"
      ],
      "text/plain": [
       "     Year   JAN   FEB   MAR   APR   MAY   JUN   JUL   AUG   SEP   OCT   NOV  \\\n",
       "0    1879  44.3  43.7  57.6  58.9  69.8  74.9  79.6  73.9  68.7  64.3  53.9   \n",
       "1    1880  54.3  51.4  55.5  63.4  71.0  76.5  79.2  76.8  69.4  60.8  47.2   \n",
       "2    1881  40.1  46.6  49.1  59.1  70.8  77.8  81.1  78.8  75.5  67.2  52.6   \n",
       "3    1882  48.8  52.4  57.4  64.8  66.1  76.6  75.9  75.8  71.7  65.8  51.1   \n",
       "4    1883  43.0  50.2  50.2  61.6  67.4  76.4  80.1  76.2  71.3  66.0  53.7   \n",
       "..    ...   ...   ...   ...   ...   ...   ...   ...   ...   ...   ...   ...   \n",
       "137  2016  42.4  48.5  60.5  64.1  71.1  81.0  83.4  82.7  78.8  69.6  58.9   \n",
       "138  2017  52.0  56.1  57.7  67.8  71.1  76.6  81.2  79.2  73.8  65.7  56.2   \n",
       "139  2018  40.4  57.3  53.5  59.8  74.8  79.8  80.8  79.7  81.0  67.4  50.3   \n",
       "140  2019  45.9  53.8  55.4  65.3  76.4  77.7  82.2  82.5  82.4  68.4  52.5   \n",
       "141  2020  49.2  49.9  61.6  61.6  68.9  76.8  82.1  80.9  73.8  67.3  58.9   \n",
       "\n",
       "      DEC  \n",
       "0    51.5  \n",
       "1    42.1  \n",
       "2    49.6  \n",
       "3    41.4  \n",
       "4    48.0  \n",
       "..    ...  \n",
       "137  48.9  \n",
       "138  46.8  \n",
       "139  48.6  \n",
       "140  51.2  \n",
       "141  46.1  \n",
       "\n",
       "[142 rows x 13 columns]"
      ]
     },
     "execution_count": 14,
     "metadata": {},
     "output_type": "execute_result"
    }
   ],
   "source": [
    "# create dataframe from excel sheet\n",
    "df=pd.read_excel('https://o2.eas.gatech.edu/data/ATL_MonMeanTemp_1879_2020.xls',skiprows=1)\n",
    "df # display it"
   ]
  },
  {
   "cell_type": "code",
   "execution_count": 12,
   "id": "e0f5b6ba",
   "metadata": {},
   "outputs": [],
   "source": [
    "data=df.to_numpy() # transfer the dataframe to numpy array\n",
    "AUG=data[:,8]       # August temp\n",
    "year=data[:,0]      # year"
   ]
  },
  {
   "cell_type": "code",
   "execution_count": 39,
   "id": "ead1878d",
   "metadata": {},
   "outputs": [
    {
     "data": {
      "image/png": "[encoded data removed]",
      "text/plain": [
       "<Figure size 432x288 with 1 Axes>"
      ]
     },
     "metadata": {
      "needs_background": "light"
     },
     "output_type": "display_data"
    },
    {
     "name": "stdout",
     "output_type": "stream",
     "text": [
      "average August temperature is 78.34 deg F\n"
     ]
    }
   ],
   "source": [
    "# let's plot the August temperature as a function of time\n",
    "plt.plot(year,AUG)\n",
    "plt.xlabel('year')\n",
    "plt.ylabel('temperature, deg F')\n",
    "plt.show()\n",
    "AUGave=np.mean(AUG)\n",
    "print('average August temperature is '+str(AUGave.round(2))+' deg F')"
   ]
  },
  {
   "cell_type": "code",
   "execution_count": 26,
   "id": "f383781e",
   "metadata": {},
   "outputs": [
    {
     "data": {
      "image/png": "[encoded data removed]",
      "text/plain": [
       "<Figure size 432x288 with 1 Axes>"
      ]
     },
     "metadata": {
      "needs_background": "light"
     },
     "output_type": "display_data"
    }
   ],
   "source": [
    "# next, let's plot the histogram\n",
    "bin=np.arange(73,88,1)\n",
    "plt.hist(AUG,bin)\n",
    "plt.xlabel('temperature')\n",
    "plt.ylabel('data count, frequency')\n",
    "plt.show()"
   ]
  },
  {
   "cell_type": "code",
   "execution_count": 48,
   "id": "390baa29",
   "metadata": {},
   "outputs": [
    {
     "data": {
      "image/png": "[encoded data removed]",
      "text/plain": [
       "<Figure size 432x288 with 1 Axes>"
      ]
     },
     "metadata": {
      "needs_background": "light"
     },
     "output_type": "display_data"
    }
   ],
   "source": [
    "# let's make a box plot\n",
    "plt.boxplot(data[:,1:])\n",
    "plt.ylabel('temperature')\n",
    "plt.show()"
   ]
  },
  {
   "cell_type": "code",
   "execution_count": null,
   "id": "977aa5e2",
   "metadata": {},
   "outputs": [],
   "source": []
  }
 ],
 "metadata": {
  "kernelspec": {
   "display_name": "Python 3",
   "language": "python",
   "name": "python3"
  },
  "language_info": {
   "codemirror_mode": {
    "name": "ipython",
    "version": 3
   },
   "file_extension": ".py",
   "mimetype": "text/x-python",
   "name": "python",
   "nbconvert_exporter": "python",
   "pygments_lexer": "ipython3",
   "version": "3.8.8"
  }
 },
 "nbformat": 4,
 "nbformat_minor": 5
}
