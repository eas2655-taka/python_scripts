{
 "cells": [
  {
   "cell_type": "markdown",
   "id": "73a1df7c",
   "metadata": {},
   "source": [
    "# Week 3 in-class exercise\n",
    "This week's theme is Student's t-distribution and hypothesis testing"
   ]
  },
  {
   "cell_type": "code",
   "execution_count": 1,
   "id": "796356a1",
   "metadata": {},
   "outputs": [],
   "source": [
    "# import libraries\n",
    "import pandas as pd\n",
    "import numpy as np\n",
    "from scipy import stats"
   ]
  },
  {
   "cell_type": "code",
   "execution_count": 2,
   "id": "4256ea63",
   "metadata": {},
   "outputs": [],
   "source": [
    "# load the data\n",
    "df=pd.read_excel('ATL_MonMeanTemp_1879_2020.xls',skiprows=1)"
   ]
  },
  {
   "cell_type": "code",
   "execution_count": 22,
   "id": "382e1215",
   "metadata": {},
   "outputs": [],
   "source": [
    "data=df.to_numpy()\n",
    "july=data[:,7]"
   ]
  },
  {
   "cell_type": "markdown",
   "id": "c20a7d54",
   "metadata": {},
   "source": [
    "## Test whether or not the mean July temperature of Atlanta for recent decade (2011-2020) is significantly warmer than the long term average. "
   ]
  },
  {
   "cell_type": "code",
   "execution_count": 10,
   "id": "6f021caf",
   "metadata": {},
   "outputs": [
    {
     "name": "stdout",
     "output_type": "stream",
     "text": [
      "long term mean is 79.07746478873237\n",
      "last 10 year mean is 81.26000000000002\n"
     ]
    }
   ],
   "source": [
    "mu=np.mean(july); # long term mean\n",
    "x=np.mean(july[-10:]); # mean of last 10 years\n",
    "print('long term mean is '+str(mu))\n",
    "print('last 10 year mean is '+str(x))"
   ]
  },
  {
   "cell_type": "markdown",
   "id": "a634ac1f",
   "metadata": {},
   "source": [
    "#### Step 1. Set the confidence level to 95% confidence level"
   ]
  },
  {
   "cell_type": "code",
   "execution_count": 14,
   "id": "5c582bda",
   "metadata": {},
   "outputs": [],
   "source": [
    "CL=.95"
   ]
  },
  {
   "cell_type": "markdown",
   "id": "5a41afe7",
   "metadata": {},
   "source": [
    "#### Step 2. State the hypotheses\n",
    "\n",
    "H0: the mean July temperature of Atlanta for recent decade (2011-2020) is NOT significantly warmer than the long term average. \n",
    "\n",
    "H1: the mean July temperature of Atlanta for recent decade (2011-2020) is significantly warmer than the long term average. "
   ]
  },
  {
   "cell_type": "markdown",
   "id": "55f12d0b",
   "metadata": {},
   "source": [
    "#### Step 3. State the statistic used\n",
    "\n",
    "We will use Student's t-distribution with one-tail test. "
   ]
  },
  {
   "cell_type": "markdown",
   "id": "7b2c30a2",
   "metadata": {},
   "source": [
    "#### Step 4. Determine the critical region. "
   ]
  },
  {
   "cell_type": "code",
   "execution_count": 16,
   "id": "0e384e31",
   "metadata": {},
   "outputs": [
    {
     "name": "stdout",
     "output_type": "stream",
     "text": [
      "The critical region is t < 1.8331129326536335\n"
     ]
    }
   ],
   "source": [
    "# N is the sample size\n",
    "N=10\n",
    "# calculate the critical t-value (one-tail)\n",
    "tcrit=stats.t.ppf(CL,N-1)\n",
    "# display the critical region\n",
    "print('The critical region is t < '+str(tcrit))"
   ]
  },
  {
   "cell_type": "markdown",
   "id": "512395f3",
   "metadata": {},
   "source": [
    "#### Step 5. Evaluate whether or not the data is outside of the critical region"
   ]
  },
  {
   "cell_type": "code",
   "execution_count": 30,
   "id": "3fe9d7ba",
   "metadata": {},
   "outputs": [
    {
     "name": "stdout",
     "output_type": "stream",
     "text": [
      "The t-value of the data is 3.1228683188389534\n"
     ]
    }
   ],
   "source": [
    "# standard deviation from the last 10 years\n",
    "sig=np.std(july[-10:],ddof=1)\n",
    "\n",
    "# standard error of the 10 year mean temperature\n",
    "SE=sig/np.sqrt(N-1)\n",
    "\n",
    "# t-value of the data is (x-mu)/(SE)\n",
    "t = (x-mu)/SE\n",
    "print('The t-value of the data is '+str(t))"
   ]
  },
  {
   "cell_type": "markdown",
   "id": "6ec08799",
   "metadata": {},
   "source": [
    "#### Since t > tcrit, we reject the null hypothesis (N0). The last 10 years is significantly warmer than long term average with 95% confidence level. (END)"
   ]
  },
  {
   "cell_type": "markdown",
   "id": "cba07e41",
   "metadata": {},
   "source": [
    "## Test whether or not the mean July temperature of Atlanta for one decade (1991-2000) is significantly different from another decadal average from 1981 to 1990.  "
   ]
  },
  {
   "cell_type": "code",
   "execution_count": 24,
   "id": "8cc6e9d1",
   "metadata": {},
   "outputs": [
    {
     "name": "stdout",
     "output_type": "stream",
     "text": [
      "1980s mean is 80.36999999999999\n",
      "1990s mean is 81.16\n"
     ]
    }
   ],
   "source": [
    "year=data[:,0]\n",
    "# use logical variable to select the time period\n",
    "index1= (year>=1981) & (year<=1990)\n",
    "index2= (year>=1991) & (year<=2000)\n",
    "\n",
    "x1=np.mean(july[index1]) # long term mean\n",
    "x2=np.mean(july[index2]) # mean of last 10 years\n",
    "\n",
    "print('1980s mean is '+str(x1))\n",
    "print('1990s mean is '+str(x2))"
   ]
  },
  {
   "cell_type": "markdown",
   "id": "58f666ca",
   "metadata": {},
   "source": [
    "#### Step 1. Set the confidence level to 95% confidence level"
   ]
  },
  {
   "cell_type": "code",
   "execution_count": 25,
   "id": "dd55187b",
   "metadata": {},
   "outputs": [],
   "source": [
    "CL=.95"
   ]
  },
  {
   "cell_type": "markdown",
   "id": "4fd465f4",
   "metadata": {},
   "source": [
    "#### Step 2. State the hypotheses\n",
    "\n",
    "H0: the mean July temperature of Atlanta for recent decade (2011-2020) is NOT significantly warmer than the long term average.\n",
    "\n",
    "H1: the mean July temperature of Atlanta for recent decade (2011-2020) is significantly warmer than the long term average."
   ]
  },
  {
   "cell_type": "markdown",
   "id": "3e018e98",
   "metadata": {},
   "source": [
    "#### Step 3. State the statistic used\n",
    "\n",
    "We will use Student's t-distribution with one-tail test."
   ]
  },
  {
   "cell_type": "markdown",
   "id": "4321edbb",
   "metadata": {},
   "source": [
    "#### Step 4. Determine the critical region."
   ]
  },
  {
   "cell_type": "code",
   "execution_count": 26,
   "id": "bdca9700",
   "metadata": {},
   "outputs": [
    {
     "name": "stdout",
     "output_type": "stream",
     "text": [
      "The critical region is t < 2.10092204024096\n"
     ]
    }
   ],
   "source": [
    "# N1 and N2 are the sample size\n",
    "N1=10\n",
    "N2=10\n",
    "df=N1+N2-2\n",
    "\n",
    "# calculate the critical t-value (one-tail)\n",
    "alpha = 1-CL\n",
    "tcrit=stats.t.ppf(1-alpha/2,df) # two tail test\n",
    "\n",
    "# display the critical region\n",
    "print('The critical region is t < '+str(tcrit))"
   ]
  },
  {
   "cell_type": "markdown",
   "id": "bae4fccb",
   "metadata": {},
   "source": [
    "#### Step 5. Evaluate whether or not the data is outside of the critical region"
   ]
  },
  {
   "cell_type": "code",
   "execution_count": 31,
   "id": "887f8ae1",
   "metadata": {},
   "outputs": [
    {
     "name": "stdout",
     "output_type": "stream",
     "text": [
      "std of the first period is 2.0472474745917326\n",
      "std of the second period is 2.178786614405163\n",
      "combined std is 2.228394206764311\n",
      "combined SE is 0.9965681853983442\n",
      "The t-value of the data is 0.7927204696828954\n"
     ]
    }
   ],
   "source": [
    "# standard deviation from the each of the two decades\n",
    "sig1=np.std(july[index1],ddof=1)\n",
    "sig2=np.std(july[index2],ddof=1)\n",
    "\n",
    "# calculate the combined standard deviation weighted by the sample size\n",
    "sig = np.sqrt( (N1*sig1**2+N2*sig2**2)/(N1+N2-2) )\n",
    "\n",
    "# standard error of the combined data\n",
    "SE=sig*np.sqrt(1/N1+1/N2)\n",
    "\n",
    "# t-value of the data is (x2-x1)/(SE)\n",
    "t = (x2-x1)/SE\n",
    "\n",
    "print('std of the first period is '+str(sig1))\n",
    "print('std of the second period is '+str(sig2))\n",
    "print('combined std is '+str(sig))\n",
    "print('combined SE is '+str(SE))\n",
    "print('The t-value of the data is '+str(t))"
   ]
  },
  {
   "cell_type": "markdown",
   "id": "cd11c1d3",
   "metadata": {},
   "source": [
    "#### Since t < tcrit, we CANNOT reject the null hypothesis (N0). The 1980s and 1990s are not significantly different from one another at the 95% confidence level. (END)"
   ]
  },
  {
   "cell_type": "code",
   "execution_count": null,
   "id": "671c8ce9",
   "metadata": {},
   "outputs": [],
   "source": []
  }
 ],
 "metadata": {
  "kernelspec": {
   "display_name": "Python 3",
   "language": "python",
   "name": "python3"
  },
  "language_info": {
   "codemirror_mode": {
    "name": "ipython",
    "version": 3
   },
   "file_extension": ".py",
   "mimetype": "text/x-python",
   "name": "python",
   "nbconvert_exporter": "python",
   "pygments_lexer": "ipython3",
   "version": "3.8.8"
  }
 },
 "nbformat": 4,
 "nbformat_minor": 5
}
