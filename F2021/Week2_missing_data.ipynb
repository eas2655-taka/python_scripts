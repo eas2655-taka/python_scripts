{
 "cells": [
  {
   "cell_type": "markdown",
   "id": "4a821b0a",
   "metadata": {},
   "source": [
    "# Week 2 mini projects (array slicing & dealing with missing data)\n",
    "File IO and Plotting using numpy, matplotlib.pyplot and pandas\n",
    "This exercise includes several mini projects. All of these requires reading in data, selecting a portion of the data. Then plotting after removing the effects of missing data points. "
   ]
  },
  {
   "cell_type": "code",
   "execution_count": 1,
   "id": "edbb87cc",
   "metadata": {},
   "outputs": [],
   "source": [
    "import numpy as np\n",
    "import matplotlib.pyplot as plt\n",
    "import pandas as pd"
   ]
  },
  {
   "cell_type": "markdown",
   "id": "268a8f3a",
   "metadata": {},
   "source": [
    "### Project 1. Download the excel sheet containing the historical weather station data from Seattle WA from https://o2.eas.gatech.edu/data/SEA_MonMeanTemp_1894_2020.xls\n",
    "\n",
    "### This data contains missing values as -999. Avoid plotting the missing data.  Select the mean Februrary temperature from 1950 to 2020 and make a line plot. \n"
   ]
  },
  {
   "cell_type": "code",
   "execution_count": 2,
   "id": "77ccefa7",
   "metadata": {},
   "outputs": [
    {
     "data": {
      "text/html": [
       "<div>\n",
       "<style scoped>\n",
       "    .dataframe tbody tr th:only-of-type {\n",
       "        vertical-align: middle;\n",
       "    }\n",
       "\n",
       "    .dataframe tbody tr th {\n",
       "        vertical-align: top;\n",
       "    }\n",
       "\n",
       "    .dataframe thead th {\n",
       "        text-align: right;\n",
       "    }\n",
       "</style>\n",
       "<table border=\"1\" class=\"dataframe\">\n",
       "  <thead>\n",
       "    <tr style=\"text-align: right;\">\n",
       "      <th></th>\n",
       "      <th>Year</th>\n",
       "      <th>JAN</th>\n",
       "      <th>FEB</th>\n",
       "      <th>MAR</th>\n",
       "      <th>APR</th>\n",
       "      <th>MAY</th>\n",
       "      <th>JUN</th>\n",
       "      <th>JUL</th>\n",
       "      <th>AUG</th>\n",
       "      <th>SEP</th>\n",
       "      <th>OCT</th>\n",
       "      <th>NOV</th>\n",
       "      <th>DEC</th>\n",
       "    </tr>\n",
       "  </thead>\n",
       "  <tbody>\n",
       "    <tr>\n",
       "      <th>0</th>\n",
       "      <td>1894</td>\n",
       "      <td>38.8</td>\n",
       "      <td>38.2</td>\n",
       "      <td>42.7</td>\n",
       "      <td>48.0</td>\n",
       "      <td>53.4</td>\n",
       "      <td>58.7</td>\n",
       "      <td>64.3</td>\n",
       "      <td>65.9</td>\n",
       "      <td>57.6</td>\n",
       "      <td>50.2</td>\n",
       "      <td>47.4</td>\n",
       "      <td>39.3</td>\n",
       "    </tr>\n",
       "    <tr>\n",
       "      <th>1</th>\n",
       "      <td>1895</td>\n",
       "      <td>38.7</td>\n",
       "      <td>44.7</td>\n",
       "      <td>44.1</td>\n",
       "      <td>50.1</td>\n",
       "      <td>55.2</td>\n",
       "      <td>60.9</td>\n",
       "      <td>63.6</td>\n",
       "      <td>62.0</td>\n",
       "      <td>55.8</td>\n",
       "      <td>51.7</td>\n",
       "      <td>44.2</td>\n",
       "      <td>41.9</td>\n",
       "    </tr>\n",
       "    <tr>\n",
       "      <th>2</th>\n",
       "      <td>1896</td>\n",
       "      <td>42.4</td>\n",
       "      <td>44.9</td>\n",
       "      <td>42.7</td>\n",
       "      <td>46.9</td>\n",
       "      <td>52.4</td>\n",
       "      <td>60.2</td>\n",
       "      <td>67.2</td>\n",
       "      <td>63.9</td>\n",
       "      <td>56.7</td>\n",
       "      <td>52.8</td>\n",
       "      <td>38.4</td>\n",
       "      <td>44.5</td>\n",
       "    </tr>\n",
       "    <tr>\n",
       "      <th>3</th>\n",
       "      <td>1897</td>\n",
       "      <td>40.0</td>\n",
       "      <td>42.2</td>\n",
       "      <td>40.2</td>\n",
       "      <td>52.5</td>\n",
       "      <td>58.4</td>\n",
       "      <td>60.2</td>\n",
       "      <td>62.7</td>\n",
       "      <td>67.8</td>\n",
       "      <td>56.9</td>\n",
       "      <td>51.0</td>\n",
       "      <td>43.6</td>\n",
       "      <td>42.6</td>\n",
       "    </tr>\n",
       "    <tr>\n",
       "      <th>4</th>\n",
       "      <td>1898</td>\n",
       "      <td>39.9</td>\n",
       "      <td>45.6</td>\n",
       "      <td>43.4</td>\n",
       "      <td>50.1</td>\n",
       "      <td>57.1</td>\n",
       "      <td>61.4</td>\n",
       "      <td>64.6</td>\n",
       "      <td>66.3</td>\n",
       "      <td>60.8</td>\n",
       "      <td>52.2</td>\n",
       "      <td>45.0</td>\n",
       "      <td>40.4</td>\n",
       "    </tr>\n",
       "    <tr>\n",
       "      <th>...</th>\n",
       "      <td>...</td>\n",
       "      <td>...</td>\n",
       "      <td>...</td>\n",
       "      <td>...</td>\n",
       "      <td>...</td>\n",
       "      <td>...</td>\n",
       "      <td>...</td>\n",
       "      <td>...</td>\n",
       "      <td>...</td>\n",
       "      <td>...</td>\n",
       "      <td>...</td>\n",
       "      <td>...</td>\n",
       "      <td>...</td>\n",
       "    </tr>\n",
       "    <tr>\n",
       "      <th>122</th>\n",
       "      <td>2016</td>\n",
       "      <td>43.5</td>\n",
       "      <td>47.7</td>\n",
       "      <td>49.4</td>\n",
       "      <td>56.3</td>\n",
       "      <td>59.2</td>\n",
       "      <td>63.6</td>\n",
       "      <td>67.0</td>\n",
       "      <td>68.6</td>\n",
       "      <td>61.4</td>\n",
       "      <td>55.4</td>\n",
       "      <td>51.3</td>\n",
       "      <td>38.5</td>\n",
       "    </tr>\n",
       "    <tr>\n",
       "      <th>123</th>\n",
       "      <td>2017</td>\n",
       "      <td>38.7</td>\n",
       "      <td>41.6</td>\n",
       "      <td>46.5</td>\n",
       "      <td>50.8</td>\n",
       "      <td>58.1</td>\n",
       "      <td>62.6</td>\n",
       "      <td>67.0</td>\n",
       "      <td>69.7</td>\n",
       "      <td>64.9</td>\n",
       "      <td>53.2</td>\n",
       "      <td>46.6</td>\n",
       "      <td>40.5</td>\n",
       "    </tr>\n",
       "    <tr>\n",
       "      <th>124</th>\n",
       "      <td>2018</td>\n",
       "      <td>44.9</td>\n",
       "      <td>41.4</td>\n",
       "      <td>46.2</td>\n",
       "      <td>50.6</td>\n",
       "      <td>60.8</td>\n",
       "      <td>62.0</td>\n",
       "      <td>70.0</td>\n",
       "      <td>68.5</td>\n",
       "      <td>62.3</td>\n",
       "      <td>53.4</td>\n",
       "      <td>48.2</td>\n",
       "      <td>43.5</td>\n",
       "    </tr>\n",
       "    <tr>\n",
       "      <th>125</th>\n",
       "      <td>2019</td>\n",
       "      <td>44.0</td>\n",
       "      <td>36.6</td>\n",
       "      <td>47.4</td>\n",
       "      <td>52.0</td>\n",
       "      <td>59.5</td>\n",
       "      <td>62.0</td>\n",
       "      <td>65.5</td>\n",
       "      <td>68.5</td>\n",
       "      <td>62.3</td>\n",
       "      <td>50.9</td>\n",
       "      <td>46.4</td>\n",
       "      <td>44.2</td>\n",
       "    </tr>\n",
       "    <tr>\n",
       "      <th>126</th>\n",
       "      <td>2020</td>\n",
       "      <td>44.2</td>\n",
       "      <td>43.6</td>\n",
       "      <td>44.6</td>\n",
       "      <td>51.8</td>\n",
       "      <td>58.7</td>\n",
       "      <td>61.5</td>\n",
       "      <td>65.8</td>\n",
       "      <td>67.2</td>\n",
       "      <td>65.4</td>\n",
       "      <td>54.1</td>\n",
       "      <td>46.6</td>\n",
       "      <td>44.1</td>\n",
       "    </tr>\n",
       "  </tbody>\n",
       "</table>\n",
       "<p>127 rows × 13 columns</p>\n",
       "</div>"
      ],
      "text/plain": [
       "     Year   JAN   FEB   MAR   APR   MAY   JUN   JUL   AUG   SEP   OCT   NOV  \\\n",
       "0    1894  38.8  38.2  42.7  48.0  53.4  58.7  64.3  65.9  57.6  50.2  47.4   \n",
       "1    1895  38.7  44.7  44.1  50.1  55.2  60.9  63.6  62.0  55.8  51.7  44.2   \n",
       "2    1896  42.4  44.9  42.7  46.9  52.4  60.2  67.2  63.9  56.7  52.8  38.4   \n",
       "3    1897  40.0  42.2  40.2  52.5  58.4  60.2  62.7  67.8  56.9  51.0  43.6   \n",
       "4    1898  39.9  45.6  43.4  50.1  57.1  61.4  64.6  66.3  60.8  52.2  45.0   \n",
       "..    ...   ...   ...   ...   ...   ...   ...   ...   ...   ...   ...   ...   \n",
       "122  2016  43.5  47.7  49.4  56.3  59.2  63.6  67.0  68.6  61.4  55.4  51.3   \n",
       "123  2017  38.7  41.6  46.5  50.8  58.1  62.6  67.0  69.7  64.9  53.2  46.6   \n",
       "124  2018  44.9  41.4  46.2  50.6  60.8  62.0  70.0  68.5  62.3  53.4  48.2   \n",
       "125  2019  44.0  36.6  47.4  52.0  59.5  62.0  65.5  68.5  62.3  50.9  46.4   \n",
       "126  2020  44.2  43.6  44.6  51.8  58.7  61.5  65.8  67.2  65.4  54.1  46.6   \n",
       "\n",
       "      DEC  \n",
       "0    39.3  \n",
       "1    41.9  \n",
       "2    44.5  \n",
       "3    42.6  \n",
       "4    40.4  \n",
       "..    ...  \n",
       "122  38.5  \n",
       "123  40.5  \n",
       "124  43.5  \n",
       "125  44.2  \n",
       "126  44.1  \n",
       "\n",
       "[127 rows x 13 columns]"
      ]
     },
     "execution_count": 2,
     "metadata": {},
     "output_type": "execute_result"
    }
   ],
   "source": [
    "# read in data file as DataFrame using pandas\n",
    "df2=pd.read_excel(\"https://o2.eas.gatech.edu/data/SEA_MonMeanTemp_1894_2020.xls\",skiprows=1)\n",
    "df2"
   ]
  },
  {
   "cell_type": "code",
   "execution_count": 3,
   "id": "866d9772",
   "metadata": {},
   "outputs": [],
   "source": [
    "# Extract Feb temperature\n",
    "sea=df2.to_numpy()\n",
    "year_sea=sea[:,0]\n",
    "feb_sea=sea[:,2]"
   ]
  },
  {
   "cell_type": "code",
   "execution_count": 4,
   "id": "6dd50d53",
   "metadata": {},
   "outputs": [],
   "source": [
    "# select the data range to be only within 1950 to 2020\n",
    "index = (year_sea >= 1950) & (year_sea <= 2020)\n",
    "year2 = year_sea[index]\n",
    "feb2  = feb_sea[index]"
   ]
  },
  {
   "cell_type": "code",
   "execution_count": 5,
   "id": "e07c1fd9",
   "metadata": {},
   "outputs": [
    {
     "data": {
      "image/png": "[encoded data removed]",
      "text/plain": [
       "<Figure size 432x288 with 1 Axes>"
      ]
     },
     "metadata": {
      "needs_background": "light"
     },
     "output_type": "display_data"
    }
   ],
   "source": [
    "# plot the result using matplotlib\n",
    "plt.plot(year2,feb2,'b-')\n",
    "plt.xlabel('year')\n",
    "plt.ylabel('Seattle Feb temperature, deg F')\n",
    "plt.show()\n",
    "# Oh no! the plot is ruined because there is a missing data (-999)"
   ]
  },
  {
   "cell_type": "code",
   "execution_count": 6,
   "id": "7b88c5db",
   "metadata": {},
   "outputs": [
    {
     "data": {
      "image/png": "[encoded data removed]",
      "text/plain": [
       "<Figure size 432x288 with 1 Axes>"
      ]
     },
     "metadata": {
      "needs_background": "light"
     },
     "output_type": "display_data"
    }
   ],
   "source": [
    "# first replace the missing data (-999) with np.nan\n",
    "missing_index= (feb2 == -999) # first identify the missing data\n",
    "feb2[missing_index]=np.nan\n",
    "\n",
    "# then plot the result using matplotlib\n",
    "plt.plot(year2,feb2,'b-')\n",
    "plt.xlabel('year')\n",
    "plt.ylabel('temperature, deg F')\n",
    "plt.show()\n",
    "# now we can see the stuff! "
   ]
  },
  {
   "cell_type": "markdown",
   "id": "8b0e99ae",
   "metadata": {},
   "source": [
    "## Project 2. Plot all 12 months of Seattle data as a contour plot\n",
    "### use x-axis for year (1900-2020), y-axis for month (1-12), and color-filled contour for temperature. \n",
    "### Do the same for Seattle. You will have to remove the missing data\n",
    "### For different choices of colormaps, please look at https://matplotlib.org/stable/tutorials/colors/colormaps.html"
   ]
  },
  {
   "cell_type": "code",
   "execution_count": 7,
   "id": "eeffe99d",
   "metadata": {},
   "outputs": [],
   "source": [
    "# read in data file as DataFrame using pandas\n",
    "df=pd.read_excel(\"https://o2.eas.gatech.edu/data/SEA_MonMeanTemp_1894_2020.xls\",skiprows=1)\n",
    "\n",
    "# Extract temperature for all 12 months\n",
    "sea=df.to_numpy()\n",
    "year=sea[:,0]   # first column\n",
    "temp=sea[:,1:]  # 2nd column and all the rest\n",
    "\n",
    "# select the years from 1900 to 2020\n",
    "index = (year >= 1900) & (year <= 2020)\n",
    "year1 = year[index]\n",
    "temp1 = temp[index,:]"
   ]
  },
  {
   "cell_type": "code",
   "execution_count": 8,
   "id": "46eace1e",
   "metadata": {},
   "outputs": [
    {
     "data": {
      "image/png": "[encoded data removed]",
      "text/plain": [
       "<Figure size 432x288 with 2 Axes>"
      ]
     },
     "metadata": {
      "needs_background": "light"
     },
     "output_type": "display_data"
    }
   ],
   "source": [
    "## contourf from matplotlib\n",
    "mon=np.arange(1,13,1)\n",
    "plt.contourf(year1,mon,temp1.T) \n",
    "plt.xlabel('year')\n",
    "plt.ylabel('month')\n",
    "plt.colorbar()\n",
    "plt.show()\n",
    "# Oh no! This is not working again! "
   ]
  },
  {
   "cell_type": "markdown",
   "id": "ab21a963",
   "metadata": {},
   "source": [
    "## Question 1. How can we fix this (deal with missing data)?"
   ]
  },
  {
   "cell_type": "code",
   "execution_count": 9,
   "id": "a6b9add9",
   "metadata": {},
   "outputs": [],
   "source": [
    "# Hint 1: remember how we removed the missing data from the line plot"
   ]
  },
  {
   "cell_type": "markdown",
   "id": "7296d352",
   "metadata": {},
   "source": [
    "## Question 2. Also, how can we change the color scheme for this plot?"
   ]
  },
  {
   "cell_type": "code",
   "execution_count": 10,
   "id": "a9de81ba",
   "metadata": {},
   "outputs": [],
   "source": [
    "# Hint 2: cmap is the key word for color scheme in contourf"
   ]
  },
  {
   "cell_type": "markdown",
   "id": "b45165fe",
   "metadata": {},
   "source": [
    "## Project 3. Display histogram and Gaussian with missing data\n",
    "### Display the histogram of mean July temperature of Seattle from 1900 to 2020, and overlay Gaussian function\n",
    "Gaussian ($f(x)$, defined below) should be plotted scaled by $N \\Delta x$.  \n",
    "This is because the area of histogram is equal to sample size times bin width. \n",
    "\n",
    "$ f(x) = \\frac{1}{\\sqrt{2 \\pi}\\sigma} exp \\left\\{ -\\frac{1}{2} \\left( \\frac{x-\\mu}{\\sigma} \\right)^2\\right\\}$"
   ]
  },
  {
   "cell_type": "code",
   "execution_count": 11,
   "id": "634b69bf",
   "metadata": {},
   "outputs": [],
   "source": [
    "# read in data file as DataFrame using pandas\n",
    "df=pd.read_excel(\"https://o2.eas.gatech.edu/data/SEA_MonMeanTemp_1894_2020.xls\",skiprows=1)\n",
    "\n",
    "# Extract temperature for July months (8th column)\n",
    "sea=df.to_numpy()\n",
    "year=sea[:,0]   # first column\n",
    "jul=sea[:,7]   # 13th column\n",
    "\n",
    "# select the years from 1900 to 2020\n",
    "index = (year >= 1900) & (year <= 2020)\n",
    "jul1 = jul[index]\n",
    "\n",
    "# in this case, remove the missing data \n",
    "jul1[jul1 == -999] = np.nan"
   ]
  },
  {
   "cell_type": "code",
   "execution_count": 12,
   "id": "6edc32d6",
   "metadata": {},
   "outputs": [
    {
     "ename": "ValueError",
     "evalue": "arange: cannot compute length",
     "output_type": "error",
     "traceback": [
      "\u001b[0;31m---------------------------------------------------------------------------\u001b[0m",
      "\u001b[0;31mValueError\u001b[0m                                Traceback (most recent call last)",
      "\u001b[0;32m<ipython-input-12-d5298ad94727>\u001b[0m in \u001b[0;36m<module>\u001b[0;34m\u001b[0m\n\u001b[1;32m      1\u001b[0m \u001b[0;31m# define bins\u001b[0m\u001b[0;34m\u001b[0m\u001b[0;34m\u001b[0m\u001b[0;34m\u001b[0m\u001b[0m\n\u001b[1;32m      2\u001b[0m \u001b[0mdx\u001b[0m\u001b[0;34m=\u001b[0m\u001b[0;36m1\u001b[0m\u001b[0;34m\u001b[0m\u001b[0;34m\u001b[0m\u001b[0m\n\u001b[0;32m----> 3\u001b[0;31m \u001b[0mbins\u001b[0m\u001b[0;34m=\u001b[0m\u001b[0mnp\u001b[0m\u001b[0;34m.\u001b[0m\u001b[0marange\u001b[0m\u001b[0;34m(\u001b[0m\u001b[0mnp\u001b[0m\u001b[0;34m.\u001b[0m\u001b[0mmin\u001b[0m\u001b[0;34m(\u001b[0m\u001b[0mjul1\u001b[0m\u001b[0;34m)\u001b[0m\u001b[0;34m-\u001b[0m\u001b[0;36m2\u001b[0m\u001b[0;34m,\u001b[0m\u001b[0mnp\u001b[0m\u001b[0;34m.\u001b[0m\u001b[0mmax\u001b[0m\u001b[0;34m(\u001b[0m\u001b[0mjul1\u001b[0m\u001b[0;34m)\u001b[0m\u001b[0;34m+\u001b[0m\u001b[0;36m2\u001b[0m\u001b[0;34m,\u001b[0m\u001b[0mdx\u001b[0m\u001b[0;34m)\u001b[0m\u001b[0;34m\u001b[0m\u001b[0;34m\u001b[0m\u001b[0m\n\u001b[0m\u001b[1;32m      4\u001b[0m \u001b[0mplt\u001b[0m\u001b[0;34m.\u001b[0m\u001b[0mhist\u001b[0m\u001b[0;34m(\u001b[0m\u001b[0mjul1\u001b[0m\u001b[0;34m,\u001b[0m\u001b[0mbins\u001b[0m\u001b[0;34m)\u001b[0m\u001b[0;34m\u001b[0m\u001b[0;34m\u001b[0m\u001b[0m\n\u001b[1;32m      5\u001b[0m \u001b[0mplt\u001b[0m\u001b[0;34m.\u001b[0m\u001b[0mxlabel\u001b[0m\u001b[0;34m(\u001b[0m\u001b[0;34m'temperature deg F'\u001b[0m\u001b[0;34m)\u001b[0m\u001b[0;34m\u001b[0m\u001b[0;34m\u001b[0m\u001b[0m\n",
      "\u001b[0;31mValueError\u001b[0m: arange: cannot compute length"
     ]
    }
   ],
   "source": [
    "# define bins\n",
    "dx=1\n",
    "bins=np.arange(np.min(jul1)-2,np.max(jul1)+2,dx)\n",
    "plt.hist(jul1,bins)\n",
    "plt.xlabel('temperature deg F')\n",
    "plt.ylabel('data count, frequency')\n",
    "plt.show()\n",
    "# Oh no! I got an error message! What's wrong?"
   ]
  },
  {
   "cell_type": "code",
   "execution_count": null,
   "id": "b62f6eec",
   "metadata": {},
   "outputs": [],
   "source": [
    "# calculate sample size\n",
    "N=np.size(jul1)\n",
    "\n",
    "# calculate mean and stdev\n",
    "mu=np.nanmean(jul1)     # np.nanmean calculates mean value neglecting the nan values\n",
    "sig=np.nanstd(jul1)     # np.nanstd calculates stdev value neglecting the nan values\n",
    "\n",
    "# calculate Gaussian overlay\n",
    "x=np.arange(np.nanmin(jul1)-2,np.nanmax(jul1)+2,.1)\n",
    "f=N*dx/(np.sqrt(2*np.pi)*sig)*np.exp(-.5*((x-mu)/sig)**2)"
   ]
  },
  {
   "cell_type": "code",
   "execution_count": null,
   "id": "da971b6b",
   "metadata": {},
   "outputs": [],
   "source": [
    "# replot the histogram\n",
    "plt.hist(jul1,bins)\n",
    "plt.plot(x,f,'r-') # plot the Gaussian\n",
    "plt.xlabel('temperature, deg F')\n",
    "plt.ylabel('data count, frequency')\n",
    "plt.show()\n",
    "# This works now!"
   ]
  },
  {
   "cell_type": "markdown",
   "id": "df71113f",
   "metadata": {},
   "source": [
    "## Project 4. Create a scatter plot comparing January temperature of Atlanta and Seattle between 1900 and 2020"
   ]
  },
  {
   "cell_type": "code",
   "execution_count": null,
   "id": "9d05a483",
   "metadata": {},
   "outputs": [],
   "source": [
    "# read in data file as DataFrame using pandas\n",
    "df=pd.read_excel(\"https://o2.eas.gatech.edu/data/ATL_MonMeanTemp_1879_2020.xls\",skiprows=1)\n",
    "\n",
    "# Extract temperature for Jan\n",
    "atl=df.to_numpy()\n",
    "year=atl[:,0]   # first column\n",
    "jan=atl[:,1]   \n",
    "\n",
    "# select the years from 1900 to 2020\n",
    "index = (year >= 1900) & (year <= 2020)\n",
    "janatl = jan[index]"
   ]
  },
  {
   "cell_type": "code",
   "execution_count": null,
   "id": "1df7ebc2",
   "metadata": {},
   "outputs": [],
   "source": [
    "# read in data file as DataFrame using pandas\n",
    "df=pd.read_excel(\"https://o2.eas.gatech.edu/data/SEA_MonMeanTemp_1894_2020.xls\",skiprows=1)\n",
    "\n",
    "# Extract temperature \n",
    "sea=df.to_numpy()\n",
    "year=sea[:,0]   # first column\n",
    "jan=sea[:,1]   \n",
    "\n",
    "# select the years from 1900 to 2020\n",
    "index = (year >= 1900) & (year <= 2020)\n",
    "jansea= jan[index]\n",
    "\n",
    "jansea[ jansea == -999 ] = np.nan"
   ]
  },
  {
   "cell_type": "code",
   "execution_count": null,
   "id": "b7c0910b",
   "metadata": {},
   "outputs": [],
   "source": [
    "plt.plot(janatl,jansea,'o')\n",
    "plt.xlabel('Atlanta mean Jan temperature, deg F')\n",
    "plt.ylabel('Seattle mean Jan temperature, deg F')\n",
    "plt.show()"
   ]
  },
  {
   "cell_type": "markdown",
   "id": "f9c98345",
   "metadata": {},
   "source": [
    "## Project 5. Save your result in a file\n",
    "### case 1. create a dataframe from numpy array, selecting only June, July, August months and save it as a csv file"
   ]
  },
  {
   "cell_type": "code",
   "execution_count": null,
   "id": "2a2cda22",
   "metadata": {},
   "outputs": [],
   "source": [
    "# Take the Seattle data file from the previous project\n",
    "# JJA will be 7th through 9th columns\n",
    "# including all years\n",
    "df3=pd.DataFrame(sea[:,[0,6,7,8]],columns=['Year','Jun','Jul','Aug'])\n",
    "df3.to_csv('Seattle_JJA_1894_2020.csv') # this writes the data into a CSV file"
   ]
  },
  {
   "cell_type": "code",
   "execution_count": null,
   "id": "b52f1775",
   "metadata": {},
   "outputs": [],
   "source": [
    "# have a look at the DataFrame\n",
    "df3"
   ]
  },
  {
   "cell_type": "markdown",
   "id": "fc161777",
   "metadata": {},
   "source": [
    "### case 2. save multiple numpy arrays as .npz file\n",
    "save the year and the temperature separately as different array into a single file"
   ]
  },
  {
   "cell_type": "code",
   "execution_count": null,
   "id": "9f4b8eae",
   "metadata": {},
   "outputs": [],
   "source": [
    "year=sea[:,0]    # extract year \n",
    "temp=sea[:,1:13] # extract temperature from all months\n",
    "np.savez('Seattle_MomMeanTemp.npz',year=year,temp=temp) # save the two arrays as a single file\n",
    "\n",
    "# to read the data, use np.load\n",
    "tempdata=np.load('Seattle_MomMeanTemp.npz') # returns a dictonary-like object\n",
    "year1=tempdata['year']          # extract year\n",
    "temp1=tempdata['temp']          # extract temperature"
   ]
  },
  {
   "cell_type": "code",
   "execution_count": null,
   "id": "903b542a",
   "metadata": {},
   "outputs": [],
   "source": []
  },
  {
   "cell_type": "code",
   "execution_count": null,
   "id": "e881d93e",
   "metadata": {},
   "outputs": [],
   "source": []
  }
 ],
 "metadata": {
  "kernelspec": {
   "display_name": "Python 3",
   "language": "python",
   "name": "python3"
  },
  "language_info": {
   "codemirror_mode": {
    "name": "ipython",
    "version": 3
   },
   "file_extension": ".py",
   "mimetype": "text/x-python",
   "name": "python",
   "nbconvert_exporter": "python",
   "pygments_lexer": "ipython3",
   "version": "3.8.8"
  }
 },
 "nbformat": 4,
 "nbformat_minor": 5
}
