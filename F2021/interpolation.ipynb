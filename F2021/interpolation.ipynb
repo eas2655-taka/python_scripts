{
 "cells": [
  {
   "cell_type": "markdown",
   "id": "2ae8f0f9",
   "metadata": {},
   "source": [
    "# interpolation exercise"
   ]
  },
  {
   "cell_type": "code",
   "execution_count": null,
   "id": "435f5c99",
   "metadata": {},
   "outputs": [],
   "source": [
    "import numpy as np\n",
    "import matplotlib.pyplot as plt\n",
    "from scipy import interpolate"
   ]
  },
  {
   "cell_type": "markdown",
   "id": "df3d2618",
   "metadata": {},
   "source": [
    "## 1D interpolation of sine function"
   ]
  },
  {
   "cell_type": "code",
   "execution_count": null,
   "id": "28edcd51",
   "metadata": {},
   "outputs": [],
   "source": [
    "# set up original function, pi/4 grid spacing\n",
    "x=np.arange(0,2.01*np.pi,np.pi/4)\n",
    "y=np.sin(x)"
   ]
  },
  {
   "cell_type": "code",
   "execution_count": null,
   "id": "28f1e2a5",
   "metadata": {},
   "outputs": [],
   "source": [
    "# WORK: write script to interpolate in 1D (linear)\n",
    "flin="
   ]
  },
  {
   "cell_type": "code",
   "execution_count": null,
   "id": "94c87d15",
   "metadata": {},
   "outputs": [],
   "source": [
    "# WORK: write script to interpolate in 1D (cubic)\n",
    "fcub="
   ]
  },
  {
   "cell_type": "code",
   "execution_count": null,
   "id": "a54e781d",
   "metadata": {},
   "outputs": [],
   "source": [
    "# plot the result in pi/16 grid spacing\n",
    "xnew=np.arange(0,2.01*np.pi,np.pi/16)\n",
    "ylin=flin(xnew)\n",
    "ycub=fcub(xnew)\n",
    "plt.plot(x,y,'bo')\n",
    "plt.plot(xnew,ylin,'r.-')\n",
    "plt.plot(xnew,ycub,'m.-')\n",
    "plt.show()"
   ]
  },
  {
   "cell_type": "markdown",
   "id": "ed28582a",
   "metadata": {},
   "source": [
    "## 2D interpolation of Gaussian function"
   ]
  },
  {
   "cell_type": "code",
   "execution_count": null,
   "id": "6c850d97",
   "metadata": {},
   "outputs": [],
   "source": [
    "# original gaussian is 10 x 10 grid points\n",
    "x0=np.arange(-2,2.1,.45)\n",
    "y0=np.arange(-2,2.1,.45)\n",
    "x,y=np.meshgrid(x0,y0)\n",
    "f = np.exp(-x**2-y**2)"
   ]
  },
  {
   "cell_type": "code",
   "execution_count": null,
   "id": "eda03b34",
   "metadata": {},
   "outputs": [],
   "source": [
    "# interpolate onto 40 x 40 grid points\n",
    "x1=np.arange(-2,2.1,.1)\n",
    "y1=np.arange(-2,2.1,.1)\n",
    "xnew,ynew=np.meshgrid(x1,y1)"
   ]
  },
  {
   "cell_type": "code",
   "execution_count": null,
   "id": "2831de05",
   "metadata": {},
   "outputs": [],
   "source": [
    "# WORK: write script to interpolate in 2D\n",
    "fnew="
   ]
  },
  {
   "cell_type": "code",
   "execution_count": null,
   "id": "9f180d4e",
   "metadata": {},
   "outputs": [],
   "source": [
    "# plot the result\n",
    "plt.pcolor(x1,y1,fnew(x1,y1),shading='auto')\n",
    "plt.scatter(x.flatten(),y.flatten(),10,f.flatten(),edgecolors='w')\n",
    "plt.show()"
   ]
  }
 ],
 "metadata": {
  "kernelspec": {
   "display_name": "Python [conda env:eas] *",
   "language": "python",
   "name": "conda-env-eas-py"
  },
  "language_info": {
   "codemirror_mode": {
    "name": "ipython",
    "version": 3
   },
   "file_extension": ".py",
   "mimetype": "text/x-python",
   "name": "python",
   "nbconvert_exporter": "python",
   "pygments_lexer": "ipython3",
   "version": "3.9.7"
  }
 },
 "nbformat": 4,
 "nbformat_minor": 5
}
