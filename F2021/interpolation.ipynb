{
 "cells": [
  {
   "cell_type": "markdown",
   "id": "41776901",
   "metadata": {},
   "source": [
    "# interpolation exercise"
   ]
  },
  {
   "cell_type": "code",
   "execution_count": null,
   "id": "533af4c8",
   "metadata": {},
   "outputs": [],
   "source": [
    "import numpy as np\n",
    "import matplotlib.pyplot as plt\n",
    "from scipy import interpolate"
   ]
  },
  {
   "cell_type": "markdown",
   "id": "03534e21",
   "metadata": {},
   "source": [
    "## 1D interpolation of sine function"
   ]
  },
  {
   "cell_type": "code",
   "execution_count": null,
   "id": "93a635cc",
   "metadata": {},
   "outputs": [],
   "source": [
    "# set up original function, pi/4 grid spacing\n",
    "x=np.arange(0,2.01*np.pi,np.pi/4)\n",
    "y=np.sin(x)"
   ]
  },
  {
   "cell_type": "code",
   "execution_count": null,
   "id": "01293d0f",
   "metadata": {},
   "outputs": [],
   "source": [
    "# WORK: write script to interpolate in 1D (linear)\n",
    "flin="
   ]
  },
  {
   "cell_type": "code",
   "execution_count": null,
   "id": "6637bc07",
   "metadata": {},
   "outputs": [],
   "source": [
    "# WORK: write script to interpolate in 1D (cubic)\n",
    "fcub="
   ]
  },
  {
   "cell_type": "code",
   "execution_count": null,
   "id": "89bfb7c0",
   "metadata": {},
   "outputs": [],
   "source": [
    "# plot the result in pi/16 grid spacing\n",
    "xnew=np.arange(0,2.01*np.pi,np.pi/16)\n",
    "ylin=flin(xnew)\n",
    "ycub=fcub(xnew)\n",
    "plt.plot(x,y,'bo')\n",
    "plt.plot(xnew,ylin,'r.-')\n",
    "plt.plot(xnew,ycub,'m.-')\n",
    "plt.show()"
   ]
  },
  {
   "cell_type": "markdown",
   "id": "41bb62e0",
   "metadata": {},
   "source": [
    "## 2D interpolation of Gaussian function"
   ]
  },
  {
   "cell_type": "code",
   "execution_count": null,
   "id": "e2d5d025",
   "metadata": {},
   "outputs": [],
   "source": [
    "# original gaussian is 10 x 10 grid points\n",
    "x0=np.arange(-2,2.1,.45)\n",
    "y0=np.arange(-2,2.1,.45)\n",
    "x,y=np.meshgrid(x0,y0)\n",
    "f = np.exp(-x**2-y**2)"
   ]
  },
  {
   "cell_type": "code",
   "execution_count": null,
   "id": "1a615a6a",
   "metadata": {},
   "outputs": [],
   "source": [
    "# interpolate onto 40 x 40 grid points\n",
    "x1=np.arange(-2,2.1,.1)\n",
    "y1=np.arange(-2,2.1,.1)\n",
    "xnew,ynew=np.meshgrid(x1,y1)"
   ]
  },
  {
   "cell_type": "code",
   "execution_count": null,
   "id": "357dbacb",
   "metadata": {},
   "outputs": [],
   "source": [
    "# WORK: write script to interpolate in 2D\n",
    "fnew="
   ]
  },
  {
   "cell_type": "code",
   "execution_count": null,
   "id": "0f768272",
   "metadata": {},
   "outputs": [],
   "source": [
    "# plot the result\n",
    "plt.pcolor(x1,y1,fnew(x1,y1),shading='auto')\n",
    "plt.scatter(x.flatten(),y.flatten(),10,f.flatten(),edgecolors='w')\n",
    "plt.show()"
   ]
  },
  {
   "cell_type": "markdown",
   "id": "0d75619b",
   "metadata": {},
   "source": [
    "## Smoothing of sparse data"
   ]
  },
  {
   "cell_type": "code",
   "execution_count": null,
   "id": "428cff0b",
   "metadata": {},
   "outputs": [],
   "source": [
    "# original mathmatical function is y(x) = exp(-x) * sin(2*pi*x) over x=[0,5]\n",
    "N=100\n",
    "x=np.linspace(0,5,N)\n",
    "y=np.exp(-x)*np.sin(2*np.pi*x)"
   ]
  },
  {
   "cell_type": "code",
   "execution_count": null,
   "id": "6a521381",
   "metadata": {},
   "outputs": [],
   "source": [
    "# randomly subsample the data\n",
    "M=50 # set sample size\n",
    "ind=np.random.randint(1,100,M)\n",
    "x0=x[ind]\n",
    "# subsample the data to make it sparse\n",
    "y0=y[ind]"
   ]
  },
  {
   "cell_type": "code",
   "execution_count": null,
   "id": "bc176c18",
   "metadata": {},
   "outputs": [],
   "source": [
    "# apply polyfit\n",
    "C=\n",
    "# apply poly1d to create a polynomial function\n",
    "yest="
   ]
  },
  {
   "cell_type": "code",
   "execution_count": null,
   "id": "dc78a6d6",
   "metadata": {},
   "outputs": [],
   "source": [
    "# visualize the result\n",
    "plt.plot(x,y)\n",
    "plt.plot(x0,y0,'o');\n",
    "plt.plot(x,yest(x),'m--')\n",
    "plt.legend(['true signal','sample','LS estimate'])"
   ]
  }
 ],
 "metadata": {
  "kernelspec": {
   "display_name": "Python [conda env:eas] *",
   "language": "python",
   "name": "conda-env-eas-py"
  },
  "language_info": {
   "codemirror_mode": {
    "name": "ipython",
    "version": 3
   },
   "file_extension": ".py",
   "mimetype": "text/x-python",
   "name": "python",
   "nbconvert_exporter": "python",
   "pygments_lexer": "ipython3",
   "version": "3.9.7"
  }
 },
 "nbformat": 4,
 "nbformat_minor": 5
}
