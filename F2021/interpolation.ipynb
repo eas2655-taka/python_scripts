{
 "cells": [
  {
   "cell_type": "markdown",
   "id": "7202168d",
   "metadata": {},
   "source": [
    "# interpolation exercise"
   ]
  },
  {
   "cell_type": "code",
   "execution_count": null,
   "id": "95ec0e4a",
   "metadata": {},
   "outputs": [],
   "source": [
    "import numpy as np\n",
    "import matplotlib.pyplot as plt\n",
    "from scipy import interpolate"
   ]
  },
  {
   "cell_type": "markdown",
   "id": "4263a70e",
   "metadata": {},
   "source": [
    "## 1D interpolation of sine function"
   ]
  },
  {
   "cell_type": "code",
   "execution_count": null,
   "id": "11d31576",
   "metadata": {},
   "outputs": [],
   "source": [
    "# set up original function, pi/4 grid spacing\n",
    "x=np.arange(0,2.01*np.pi,np.pi/4)\n",
    "y=np.sin(x)"
   ]
  },
  {
   "cell_type": "code",
   "execution_count": null,
   "id": "c234864d",
   "metadata": {},
   "outputs": [],
   "source": [
    "# WORK: write script to interpolate in 1D (linear)\n",
    "flin="
   ]
  },
  {
   "cell_type": "code",
   "execution_count": null,
   "id": "7f47d1f3",
   "metadata": {},
   "outputs": [],
   "source": [
    "# WORK: write script to interpolate in 1D (cubic)\n",
    "fcub="
   ]
  },
  {
   "cell_type": "code",
   "execution_count": null,
   "id": "22e0781d",
   "metadata": {},
   "outputs": [],
   "source": [
    "# plot the result in pi/16 grid spacing\n",
    "xnew=np.arange(0,2.01*np.pi,np.pi/16)\n",
    "ylin=flin(xnew)\n",
    "ycub=fcub(xnew)\n",
    "plt.plot(x,y,'bo')\n",
    "plt.plot(xnew,ylin,'r.-')\n",
    "plt.plot(xnew,ycub,'m.-')\n",
    "plt.show()"
   ]
  },
  {
   "cell_type": "markdown",
   "id": "4f8a726e",
   "metadata": {},
   "source": [
    "## 2D interpolation of Gaussian function"
   ]
  },
  {
   "cell_type": "code",
   "execution_count": null,
   "id": "0c821bea",
   "metadata": {},
   "outputs": [],
   "source": [
    "# original gaussian is 10 x 10 grid points\n",
    "x0=np.arange(-2,2.1,.45)\n",
    "y0=np.arange(-2,2.1,.45)\n",
    "x,y=np.meshgrid(x0,y0)\n",
    "f = np.exp(-x**2-y**2)"
   ]
  },
  {
   "cell_type": "code",
   "execution_count": null,
   "id": "b7eb89c7",
   "metadata": {},
   "outputs": [],
   "source": [
    "# interpolate onto 40 x 40 grid points\n",
    "x1=np.arange(-2,2.1,.1)\n",
    "y1=np.arange(-2,2.1,.1)\n",
    "xnew,ynew=np.meshgrid(x1,y1)"
   ]
  },
  {
   "cell_type": "code",
   "execution_count": null,
   "id": "57e6d2ae",
   "metadata": {},
   "outputs": [],
   "source": [
    "# WORK: write script to interpolate in 2D\n",
    "fnew="
   ]
  },
  {
   "cell_type": "code",
   "execution_count": null,
   "id": "0bf03531",
   "metadata": {},
   "outputs": [],
   "source": [
    "# plot the result\n",
    "plt.pcolor(x1,y1,fnew(x1,y1),shading='auto')\n",
    "plt.scatter(x.flatten(),y.flatten(),10,f.flatten(),edgecolors='w')\n",
    "plt.show()"
   ]
  },
  {
   "cell_type": "markdown",
   "id": "703799eb",
   "metadata": {},
   "source": [
    "## Smoothing to sparse data"
   ]
  },
  {
   "cell_type": "code",
   "execution_count": null,
   "id": "724b4f2e",
   "metadata": {},
   "outputs": [],
   "source": [
    "# original mathmatical function is y(x) = exp(-x) * sin(2*pi*x) over x=[0,5]\n",
    "N=100\n",
    "x=np.linspace(0,5,N)\n",
    "y=np.exp(-x)*np.sin(2*np.pi*x)"
   ]
  },
  {
   "cell_type": "code",
   "execution_count": null,
   "id": "9027c929",
   "metadata": {},
   "outputs": [],
   "source": [
    "# randomly subsample the data\n",
    "M=50 # set sample size\n",
    "ind=np.random.randint(1,100,M)\n",
    "x0=x[ind]\n",
    "# subsample the data to make it sparse\n",
    "y0=y[ind]"
   ]
  },
  {
   "cell_type": "code",
   "execution_count": null,
   "id": "edce2c3e",
   "metadata": {},
   "outputs": [],
   "source": [
    "# apply polyfit\n",
    "C=\n",
    "# apply poly1d to create a polynomial function\n",
    "yest="
   ]
  },
  {
   "cell_type": "code",
   "execution_count": null,
   "id": "fff20327",
   "metadata": {},
   "outputs": [],
   "source": [
    "# visualize the result\n",
    "plt.plot(x,y)\n",
    "plt.plot(x0,y0,'o');\n",
    "plt.plot(x,yest(x),'m--')\n",
    "plt.legend(['true signal','sample','LS estimate'])"
   ]
  }
 ],
 "metadata": {
  "kernelspec": {
   "display_name": "Python [conda env:eas] *",
   "language": "python",
   "name": "conda-env-eas-py"
  },
  "language_info": {
   "codemirror_mode": {
    "name": "ipython",
    "version": 3
   },
   "file_extension": ".py",
   "mimetype": "text/x-python",
   "name": "python",
   "nbconvert_exporter": "python",
   "pygments_lexer": "ipython3",
   "version": "3.9.7"
  }
 },
 "nbformat": 4,
 "nbformat_minor": 5
}
